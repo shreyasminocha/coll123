{
 "cells": [
  {
   "cell_type": "code",
   "execution_count": null,
   "metadata": {},
   "outputs": [],
   "source": [
    "command = 'open(\"/tmp/flag\").read()'\n",
    "eval(command)"
   ]
  },
  {
   "cell_type": "code",
   "execution_count": null,
   "metadata": {},
   "outputs": [],
   "source": [
    "eval(command.replace(\"open\", \"\"))"
   ]
  },
  {
   "cell_type": "code",
   "execution_count": null,
   "metadata": {},
   "outputs": [],
   "source": [
    "command = 'opopenen(\"/tmp/flag\").read()'\n",
    "eval(command.replace(\"open\", \"\"))"
   ]
  },
  {
   "cell_type": "code",
   "execution_count": null,
   "metadata": {},
   "outputs": [],
   "source": [
    "def filter(cmd):\n",
    "    while 'open' in cmd:\n",
    "            cmd = cmd.replace('open', '')\n",
    "    eval(cmd)\n",
    "\n",
    "run = filter\n",
    "run(command)"
   ]
  },
  {
   "cell_type": "code",
   "execution_count": null,
   "metadata": {},
   "outputs": [],
   "source": [
    "eval('nepo'[::-1])\n",
    "eval('nepo'[::-1])(\"/tmp/flag\").read()"
   ]
  },
  {
   "cell_type": "code",
   "execution_count": null,
   "metadata": {},
   "outputs": [],
   "source": [
    "open = None\n",
    "open(\"/tmp/flag\").read()"
   ]
  },
  {
   "cell_type": "code",
   "execution_count": null,
   "metadata": {},
   "outputs": [],
   "source": [
    "import os\n",
    "os.open\n",
    "help(os.open)\n",
    "os.read(os.open(\"/tmp/flag\", os.O_RDONLY), 100)"
   ]
  },
  {
   "cell_type": "code",
   "execution_count": null,
   "metadata": {},
   "outputs": [],
   "source": [
    "dir()\n",
    "globals()\n",
    "dir(__builtins__)"
   ]
  },
  {
   "cell_type": "code",
   "execution_count": null,
   "metadata": {},
   "outputs": [],
   "source": [
    "__import__('os')\n",
    "eval('__imp'+'ort__')\n",
    "eval('__imp'+'ort__')('os')\n",
    "eval('__imp''ort__')('os')\n",
    "ord('+')"
   ]
  },
  {
   "cell_type": "code",
   "execution_count": null,
   "metadata": {},
   "outputs": [],
   "source": [
    "𝘱𝘳𝘪𝘯𝘵('foo')"
   ]
  }
 ],
 "metadata": {
  "language_info": {
   "name": "python"
  },
  "orig_nbformat": 4
 },
 "nbformat": 4,
 "nbformat_minor": 2
}
