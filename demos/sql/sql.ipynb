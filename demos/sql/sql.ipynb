{
 "cells": [
  {
   "cell_type": "code",
   "execution_count": 1,
   "metadata": {},
   "outputs": [],
   "source": [
    "import sqlite3\n",
    "\n",
    "# https://github.com/jpwhite3/northwind-SQLite3/blob/master/dist/northwind.db\n",
    "db = sqlite3.connect(\"northwind.sqlite\")\n",
    "cursor = db.cursor()"
   ]
  },
  {
   "cell_type": "code",
   "execution_count": 3,
   "metadata": {},
   "outputs": [
    {
     "data": {
      "text/plain": [
       "('table',\n",
       " 'Employee',\n",
       " 'Employee',\n",
       " 2,\n",
       " 'CREATE TABLE \"Employee\" \\n(\\n  \"Id\" INTEGER PRIMARY KEY, \\n  \"LastName\" VARCHAR(8000) NULL, \\n  \"FirstName\" VARCHAR(8000) NULL, \\n  \"Title\" VARCHAR(8000) NULL, \\n  \"TitleOfCourtesy\" VARCHAR(8000) NULL, \\n  \"BirthDate\" VARCHAR(8000) NULL, \\n  \"HireDate\" VARCHAR(8000) NULL, \\n  \"Address\" VARCHAR(8000) NULL, \\n  \"City\" VARCHAR(8000) NULL, \\n  \"Region\" VARCHAR(8000) NULL, \\n  \"PostalCode\" VARCHAR(8000) NULL, \\n  \"Country\" VARCHAR(8000) NULL, \\n  \"HomePhone\" VARCHAR(8000) NULL, \\n  \"Extension\" VARCHAR(8000) NULL, \\n  \"Photo\" BLOB NULL, \\n  \"Notes\" VARCHAR(8000) NULL, \\n  \"ReportsTo\" INTEGER NULL, \\n  \"PhotoPath\" VARCHAR(8000) NULL \\n)')"
      ]
     },
     "execution_count": 3,
     "metadata": {},
     "output_type": "execute_result"
    }
   ],
   "source": [
    "cursor.execute(\"select * from sqlite_master where type='table'\").fetchone()"
   ]
  },
  {
   "cell_type": "code",
   "execution_count": 5,
   "metadata": {},
   "outputs": [
    {
     "data": {
      "text/plain": [
       "[('Nancy', 'Davolio'),\n",
       " ('Andrew', 'Fuller'),\n",
       " ('Janet', 'Leverling'),\n",
       " ('Margaret', 'Peacock'),\n",
       " ('Steven', 'Buchanan'),\n",
       " ('Michael', 'Suyama'),\n",
       " ('Robert', 'King'),\n",
       " ('Laura', 'Callahan'),\n",
       " ('Anne', 'Dodsworth')]"
      ]
     },
     "execution_count": 5,
     "metadata": {},
     "output_type": "execute_result"
    }
   ],
   "source": [
    "cursor.execute(\"select FirstName, LastName from Employee\").fetchall()"
   ]
  },
  {
   "cell_type": "code",
   "execution_count": 6,
   "metadata": {},
   "outputs": [
    {
     "data": {
      "text/plain": [
       "(1,\n",
       " 'Davolio',\n",
       " 'Nancy',\n",
       " 'Sales Representative',\n",
       " 'Ms.',\n",
       " '1980-12-08',\n",
       " '2024-05-01',\n",
       " '507 - 20th Ave. E. Apt. 2A',\n",
       " 'Seattle',\n",
       " 'North America',\n",
       " '98122',\n",
       " 'USA',\n",
       " '(206) 555-9857',\n",
       " '5467',\n",
       " None,\n",
       " \"Education includes a BA in psychology from Colorado State University in 1970.  She also completed 'The Art of the Cold Call.'  Nancy is a member of Toastmasters International.\",\n",
       " 2,\n",
       " 'http://accweb/emmployees/davolio.bmp')"
      ]
     },
     "execution_count": 6,
     "metadata": {},
     "output_type": "execute_result"
    }
   ],
   "source": [
    "cursor.execute(\"select * from Employee\").fetchone()"
   ]
  },
  {
   "cell_type": "code",
   "execution_count": 7,
   "metadata": {},
   "outputs": [
    {
     "data": {
      "text/plain": [
       "[('Nancy', 'Seattle'),\n",
       " ('Andrew', 'Tacoma'),\n",
       " ('Janet', 'Kirkland'),\n",
       " ('Margaret', 'Redmond'),\n",
       " ('Steven', 'London'),\n",
       " ('Michael', 'London'),\n",
       " ('Robert', 'London'),\n",
       " ('Laura', 'Seattle'),\n",
       " ('Anne', 'London')]"
      ]
     },
     "execution_count": 7,
     "metadata": {},
     "output_type": "execute_result"
    }
   ],
   "source": [
    "cursor.execute(\"select FirstName, City from Employee\").fetchall()"
   ]
  },
  {
   "cell_type": "code",
   "execution_count": 8,
   "metadata": {},
   "outputs": [
    {
     "data": {
      "text/plain": [
       "[('Nancy', '507 - 20th Ave. E. Apt. 2A'), ('Laura', '4726 - 11th Ave. N.E.')]"
      ]
     },
     "execution_count": 8,
     "metadata": {},
     "output_type": "execute_result"
    }
   ],
   "source": [
    "cursor.execute(\"select FirstName, Address from Employee where City='Seattle'\").fetchall()"
   ]
  },
  {
   "cell_type": "code",
   "execution_count": 9,
   "metadata": {},
   "outputs": [
    {
     "data": {
      "text/plain": [
       "[('Nancy', '507 - 20th Ave. E. Apt. 2A', 'Seattle'),\n",
       " ('Andrew', '908 W. Capital Way', 'Tacoma'),\n",
       " ('Laura', '4726 - 11th Ave. N.E.', 'Seattle')]"
      ]
     },
     "execution_count": 9,
     "metadata": {},
     "output_type": "execute_result"
    }
   ],
   "source": [
    "cursor.execute(\n",
    "\t\"select FirstName, Address, City from Employee where City='Seattle' or City='Tacoma'\"\n",
    ").fetchall()"
   ]
  },
  {
   "cell_type": "code",
   "execution_count": 10,
   "metadata": {},
   "outputs": [
    {
     "data": {
      "text/plain": [
       "[('Maria Anders',),\n",
       " ('Hanna Moos',),\n",
       " ('Sven Ottlieb',),\n",
       " ('Peter Franken',),\n",
       " ('Philip Cramer',),\n",
       " ('Renate Messner',),\n",
       " ('Alexander Feuer',),\n",
       " ('Henriette Pfalzheim',),\n",
       " ('Horst Kloss',),\n",
       " ('Karin Josephs',),\n",
       " ('Rita Müller',)]"
      ]
     },
     "execution_count": 10,
     "metadata": {},
     "output_type": "execute_result"
    }
   ],
   "source": [
    "cursor.execute(\"select ContactName from Customer where Country='Germany'\").fetchall()"
   ]
  }
 ],
 "metadata": {
  "kernelspec": {
   "display_name": "Python 3",
   "language": "python",
   "name": "python3"
  },
  "language_info": {
   "codemirror_mode": {
    "name": "ipython",
    "version": 3
   },
   "file_extension": ".py",
   "mimetype": "text/x-python",
   "name": "python",
   "nbconvert_exporter": "python",
   "pygments_lexer": "ipython3",
   "version": "3.10.9 (main, Dec 19 2022, 17:35:49) [GCC 12.2.0]"
  },
  "orig_nbformat": 4,
  "vscode": {
   "interpreter": {
    "hash": "767d51c1340bd893661ea55ea3124f6de3c7a262a8b4abca0554b478b1e2ff90"
   }
  }
 },
 "nbformat": 4,
 "nbformat_minor": 2
}
