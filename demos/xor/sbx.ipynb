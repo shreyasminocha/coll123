{
 "cells": [
  {
   "cell_type": "code",
   "execution_count": 33,
   "metadata": {},
   "outputs": [],
   "source": [
    "message = b'hello world'\n",
    "key = 65 # secret"
   ]
  },
  {
   "cell_type": "code",
   "execution_count": 34,
   "metadata": {},
   "outputs": [
    {
     "name": "stdout",
     "output_type": "stream",
     "text": [
      "b')$--.a6.3-%'\n"
     ]
    }
   ],
   "source": [
    "ciphertext = b''\n",
    "for b in message:\n",
    "    ciphertext += bytes([b ^ key])\n",
    "\n",
    "print(ciphertext)"
   ]
  },
  {
   "cell_type": "code",
   "execution_count": 35,
   "metadata": {},
   "outputs": [
    {
     "name": "stdout",
     "output_type": "stream",
     "text": [
      "b')$--.a6.3-%'\n"
     ]
    }
   ],
   "source": [
    "ciphertext = bytes(map(lambda t: t ^ key, message))\n",
    "print(ciphertext)"
   ]
  },
  {
   "cell_type": "code",
   "execution_count": 39,
   "metadata": {},
   "outputs": [
    {
     "name": "stdout",
     "output_type": "stream",
     "text": [
      "b'\\x0e\\n\\x03\\n\\x00O\\x11\\x00\\x1d\\n\\x0b'\n"
     ]
    }
   ],
   "source": [
    "key = b'foo'\n",
    "ciphertext = b''\n",
    "for i, b in enumerate(message):\n",
    "    ciphertext += bytes([b ^ key[i % len(key)]])\n",
    "\n",
    "print(ciphertext)"
   ]
  },
  {
   "cell_type": "code",
   "execution_count": 50,
   "metadata": {},
   "outputs": [
    {
     "name": "stdout",
     "output_type": "stream",
     "text": [
      "b'\\x0e\\n\\x03\\n\\x00O\\x11\\x00\\x1d\\n\\x0b'\n",
      "b'foofo'\n"
     ]
    }
   ],
   "source": [
    "from itertools import cycle\n",
    "\n",
    "ciphertext = bytes(map(lambda t: t[0] ^ t[1], zip(message, cycle(key))))\n",
    "print(ciphertext)\n",
    "\n",
    "prefix = b'hello'\n",
    "key_prefix = bytes(map(lambda t: t[0] ^ t[1], zip(prefix, ciphertext)))\n",
    "print(key_prefix)"
   ]
  }
 ],
 "metadata": {
  "kernelspec": {
   "display_name": "Python 3",
   "language": "python",
   "name": "python3"
  },
  "language_info": {
   "codemirror_mode": {
    "name": "ipython",
    "version": 3
   },
   "file_extension": ".py",
   "mimetype": "text/x-python",
   "name": "python",
   "nbconvert_exporter": "python",
   "pygments_lexer": "ipython3",
   "version": "3.10.10 (main, Mar  5 2023, 22:26:53) [GCC 12.2.1 20230201]"
  },
  "orig_nbformat": 4,
  "vscode": {
   "interpreter": {
    "hash": "767d51c1340bd893661ea55ea3124f6de3c7a262a8b4abca0554b478b1e2ff90"
   }
  }
 },
 "nbformat": 4,
 "nbformat_minor": 2
}
